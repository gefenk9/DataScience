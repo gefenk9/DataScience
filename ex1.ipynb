{
 "cells": [
  {
   "cell_type": "code",
   "execution_count": 3,
   "metadata": {},
   "outputs": [],
   "source": [
    "import pandas as pd"
   ]
  },
  {
   "cell_type": "code",
   "execution_count": 16,
   "metadata": {},
   "outputs": [],
   "source": [
    "df = pd.read_csv(r\"C:\\Users\\gefenk\\Documents\\Data science\\DataScience\\bank-full_2016.csv\")\n"
   ]
  },
  {
   "cell_type": "code",
   "execution_count": 20,
   "metadata": {},
   "outputs": [
    {
     "name": "stdout",
     "output_type": "stream",
     "text": [
      "the dinemsion of the table (45211, 17)\n"
     ]
    }
   ],
   "source": [
    "\n",
    "print \"the dinemsion of the table {}\".format(df.shape)\n"
   ]
  },
  {
   "cell_type": "code",
   "execution_count": 29,
   "metadata": {},
   "outputs": [
    {
     "name": "stdout",
     "output_type": "stream",
     "text": [
      "the different attirbutes in it: ['age' 'job' 'marital' 'education' 'default_credit' 'balance'\n",
      " 'housing_loan' 'personal_loan' 'contact' 'day' 'month' 'duration'\n",
      " 'campaign' 'days_from_last_contact' 'previous_campaign_contacts'\n",
      " 'previous_campaign_outcome' 'outcome']\n"
     ]
    }
   ],
   "source": [
    "print \"the different attirbutes in it: {}\".format(df.columns.values)"
   ]
  },
  {
   "cell_type": "code",
   "execution_count": 46,
   "metadata": {},
   "outputs": [
    {
     "name": "stdout",
     "output_type": "stream",
     "text": [
      "{'yes': 5289, 'no': 39922}\n"
     ]
    }
   ],
   "source": [
    "array = df['outcome'].values\n",
    "counter = {}\n",
    "for val in array:\n",
    "    counter[val] = counter.get(val, 0) + 1\n",
    "print counter\n"
   ]
  },
  {
   "cell_type": "code",
   "execution_count": 48,
   "metadata": {},
   "outputs": [
    {
     "data": {
      "text/html": [
       "<div>\n",
       "<style scoped>\n",
       "    .dataframe tbody tr th:only-of-type {\n",
       "        vertical-align: middle;\n",
       "    }\n",
       "\n",
       "    .dataframe tbody tr th {\n",
       "        vertical-align: top;\n",
       "    }\n",
       "\n",
       "    .dataframe thead th {\n",
       "        text-align: right;\n",
       "    }\n",
       "</style>\n",
       "<table border=\"1\" class=\"dataframe\">\n",
       "  <thead>\n",
       "    <tr style=\"text-align: right;\">\n",
       "      <th></th>\n",
       "      <th>age</th>\n",
       "      <th>job</th>\n",
       "      <th>marital</th>\n",
       "      <th>education</th>\n",
       "      <th>default_credit</th>\n",
       "      <th>balance</th>\n",
       "      <th>housing_loan</th>\n",
       "      <th>personal_loan</th>\n",
       "      <th>contact</th>\n",
       "      <th>day</th>\n",
       "      <th>month</th>\n",
       "      <th>duration</th>\n",
       "      <th>campaign</th>\n",
       "      <th>days_from_last_contact</th>\n",
       "      <th>previous_campaign_contacts</th>\n",
       "      <th>previous_campaign_outcome</th>\n",
       "      <th>outcome</th>\n",
       "    </tr>\n",
       "  </thead>\n",
       "  <tbody>\n",
       "    <tr>\n",
       "      <th>0</th>\n",
       "      <td>58</td>\n",
       "      <td>management</td>\n",
       "      <td>married</td>\n",
       "      <td>tertiary</td>\n",
       "      <td>no</td>\n",
       "      <td>2143</td>\n",
       "      <td>yes</td>\n",
       "      <td>no</td>\n",
       "      <td>unknown</td>\n",
       "      <td>5</td>\n",
       "      <td>may</td>\n",
       "      <td>261</td>\n",
       "      <td>1</td>\n",
       "      <td>NaN</td>\n",
       "      <td>0</td>\n",
       "      <td>unknown</td>\n",
       "      <td>no</td>\n",
       "    </tr>\n",
       "    <tr>\n",
       "      <th>1</th>\n",
       "      <td>44</td>\n",
       "      <td>technician</td>\n",
       "      <td>single</td>\n",
       "      <td>secondary</td>\n",
       "      <td>no</td>\n",
       "      <td>29</td>\n",
       "      <td>yes</td>\n",
       "      <td>no</td>\n",
       "      <td>unknown</td>\n",
       "      <td>5</td>\n",
       "      <td>may</td>\n",
       "      <td>151</td>\n",
       "      <td>1</td>\n",
       "      <td>NaN</td>\n",
       "      <td>0</td>\n",
       "      <td>unknown</td>\n",
       "      <td>no</td>\n",
       "    </tr>\n",
       "    <tr>\n",
       "      <th>2</th>\n",
       "      <td>33</td>\n",
       "      <td>entrepreneur</td>\n",
       "      <td>married</td>\n",
       "      <td>secondary</td>\n",
       "      <td>no</td>\n",
       "      <td>2</td>\n",
       "      <td>yes</td>\n",
       "      <td>yes</td>\n",
       "      <td>unknown</td>\n",
       "      <td>5</td>\n",
       "      <td>may</td>\n",
       "      <td>76</td>\n",
       "      <td>1</td>\n",
       "      <td>NaN</td>\n",
       "      <td>0</td>\n",
       "      <td>unknown</td>\n",
       "      <td>no</td>\n",
       "    </tr>\n",
       "    <tr>\n",
       "      <th>3</th>\n",
       "      <td>47</td>\n",
       "      <td>blue-collar</td>\n",
       "      <td>married</td>\n",
       "      <td>unknown</td>\n",
       "      <td>no</td>\n",
       "      <td>1506</td>\n",
       "      <td>yes</td>\n",
       "      <td>no</td>\n",
       "      <td>unknown</td>\n",
       "      <td>5</td>\n",
       "      <td>may</td>\n",
       "      <td>92</td>\n",
       "      <td>1</td>\n",
       "      <td>NaN</td>\n",
       "      <td>0</td>\n",
       "      <td>unknown</td>\n",
       "      <td>no</td>\n",
       "    </tr>\n",
       "    <tr>\n",
       "      <th>4</th>\n",
       "      <td>33</td>\n",
       "      <td>unknown</td>\n",
       "      <td>single</td>\n",
       "      <td>unknown</td>\n",
       "      <td>no</td>\n",
       "      <td>1</td>\n",
       "      <td>no</td>\n",
       "      <td>no</td>\n",
       "      <td>unknown</td>\n",
       "      <td>5</td>\n",
       "      <td>may</td>\n",
       "      <td>198</td>\n",
       "      <td>1</td>\n",
       "      <td>NaN</td>\n",
       "      <td>0</td>\n",
       "      <td>unknown</td>\n",
       "      <td>no</td>\n",
       "    </tr>\n",
       "  </tbody>\n",
       "</table>\n",
       "</div>"
      ],
      "text/plain": [
       "   age           job  marital  education default_credit  balance housing_loan  \\\n",
       "0   58    management  married   tertiary             no     2143          yes   \n",
       "1   44    technician   single  secondary             no       29          yes   \n",
       "2   33  entrepreneur  married  secondary             no        2          yes   \n",
       "3   47   blue-collar  married    unknown             no     1506          yes   \n",
       "4   33       unknown   single    unknown             no        1           no   \n",
       "\n",
       "  personal_loan  contact  day month  duration  campaign  \\\n",
       "0            no  unknown    5   may       261         1   \n",
       "1            no  unknown    5   may       151         1   \n",
       "2           yes  unknown    5   may        76         1   \n",
       "3            no  unknown    5   may        92         1   \n",
       "4            no  unknown    5   may       198         1   \n",
       "\n",
       "   days_from_last_contact  previous_campaign_contacts  \\\n",
       "0                     NaN                           0   \n",
       "1                     NaN                           0   \n",
       "2                     NaN                           0   \n",
       "3                     NaN                           0   \n",
       "4                     NaN                           0   \n",
       "\n",
       "  previous_campaign_outcome outcome  \n",
       "0                   unknown      no  \n",
       "1                   unknown      no  \n",
       "2                   unknown      no  \n",
       "3                   unknown      no  \n",
       "4                   unknown      no  "
      ]
     },
     "execution_count": 48,
     "metadata": {},
     "output_type": "execute_result"
    }
   ],
   "source": [
    "df.head(5)"
   ]
  },
  {
   "cell_type": "code",
   "execution_count": 53,
   "metadata": {},
   "outputs": [
    {
     "name": "stdout",
     "output_type": "stream",
     "text": [
      "the attribute : age the type: <type 'numpy.int64'>\n",
      "the attribute : job the type: <type 'str'>\n",
      "the attribute : marital the type: <type 'str'>\n",
      "the attribute : education the type: <type 'str'>\n",
      "the attribute : default_credit the type: <type 'str'>\n",
      "the attribute : balance the type: <type 'numpy.int64'>\n",
      "the attribute : housing_loan the type: <type 'str'>\n",
      "the attribute : personal_loan the type: <type 'str'>\n",
      "the attribute : contact the type: <type 'str'>\n",
      "the attribute : day the type: <type 'numpy.int64'>\n",
      "the attribute : month the type: <type 'str'>\n",
      "the attribute : duration the type: <type 'numpy.int64'>\n",
      "the attribute : campaign the type: <type 'numpy.int64'>\n",
      "the attribute : days_from_last_contact the type: <type 'numpy.float64'>\n",
      "the attribute : previous_campaign_contacts the type: <type 'numpy.int64'>\n",
      "the attribute : previous_campaign_outcome the type: <type 'str'>\n",
      "the attribute : outcome the type: <type 'str'>\n"
     ]
    }
   ],
   "source": [
    "for index,val in enumerate(df.iloc[0,:]):\n",
    "    print \"the attribute : {} the type: {}\".format( df.columns.values[index], type(val))"
   ]
  },
  {
   "cell_type": "code",
   "execution_count": null,
   "metadata": {},
   "outputs": [],
   "source": []
  }
 ],
 "metadata": {
  "kernelspec": {
   "display_name": "Python 2",
   "language": "python",
   "name": "python2"
  },
  "language_info": {
   "codemirror_mode": {
    "name": "ipython",
    "version": 2
   },
   "file_extension": ".py",
   "mimetype": "text/x-python",
   "name": "python",
   "nbconvert_exporter": "python",
   "pygments_lexer": "ipython2",
   "version": "2.7.15"
  }
 },
 "nbformat": 4,
 "nbformat_minor": 2
}
